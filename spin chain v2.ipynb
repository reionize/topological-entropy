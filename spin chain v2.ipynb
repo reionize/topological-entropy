{
 "cells": [
  {
   "cell_type": "markdown",
   "id": "15cbac8d",
   "metadata": {},
   "source": [
    "# Noisy random spin chain boundary state\n",
    "\n",
    "Models coarse-grained boundary of 2D architecture as an almost translation-invariant chain of maximally entangled states, similar to \"nontrivial example\" from ```arXiV:1911.09819```. The random isometry applied is the Stinespring dilation (i.e. unitary operation applied on the coarse-grained boundary and environment blocks of two adjacent sites) of the channel $\\varepsilon_U = \\frac{1}{4} \\sum (P_i \\otimes P_i U) \\cdot (P_i \\otimes U^\\dagger P_i)$ (1) on the boundary block, where $U$ is a random unitary. Random noise is then applied across the chain."
   ]
  },
  {
   "cell_type": "code",
   "execution_count": 1,
   "id": "123badce",
   "metadata": {},
   "outputs": [],
   "source": [
    "import numpy as np\n",
    "import math\n",
    "import tensornetwork as tn\n",
    "from scipy.stats import unitary_group as ug\n",
    "# from ast import literal_eval\n",
    "from scipy import linalg"
   ]
  },
  {
   "cell_type": "code",
   "execution_count": 2,
   "id": "9f408582",
   "metadata": {},
   "outputs": [],
   "source": [
    "from matplotlib import pyplot as plt"
   ]
  },
  {
   "cell_type": "code",
   "execution_count": 3,
   "id": "ab65b5d3",
   "metadata": {},
   "outputs": [],
   "source": [
    "def noisy_ctrl_rti_chain(l,eps,d=4,closed=False):\n",
    "    \"\"\"\n",
    "    Returns an \"almost\" translation-invariant random spin chain with size eps noise applied across the chain.\n",
    "    \"\"\"\n",
    "    q = d ** (1/2)\n",
    "    if (q != int(q)):\n",
    "        print(\"Error: local dimension must be an integer.\")\n",
    "        return result\n",
    "    if (q < 2):\n",
    "        print(\"Error: local dimension must be at least 2.\")\n",
    "        return result\n",
    "    I,X,Y,Z = paulis(q=d)\n",
    "    chain = [max_entangled_node(d,name=str(i)) for i in range(l)]\n",
    "    vs = random_iso_chain(l,d=d,closed=closed)\n",
    "    e = []\n",
    "    for i in range(l):\n",
    "        H = gue(d)\n",
    "        e.append(tn.Node(linalg.qr(np.eye(d) + 1j*(Z+eps*np.asarray(H)))[0],name='E_'+str(i)))\n",
    "        # TODO: test effect on wiring\n",
    "        chain[i][1] ^ vs[i][0]\n",
    "        chain[(i+1) % l][0] ^ e[i][0]\n",
    "        e[i][1] ^ vs[i][1]\n",
    "    return chain,vs,e\n",
    "\n",
    "def noisy_rti_chain(l,eps,d=4,closed=False):\n",
    "    \"\"\"\n",
    "    Returns an \"almost\" translation-invariant random spin chain with size eps noise applied across the chain.\n",
    "    \"\"\"\n",
    "    q = d ** (1/2)\n",
    "    if (q != int(q)):\n",
    "        print(\"Error: local dimension must be an integer.\")\n",
    "        return result\n",
    "    if (q < 2):\n",
    "        print(\"Error: local dimension must be at least 2.\")\n",
    "        return result\n",
    "    I,X,Y,Z = paulis(q=d)\n",
    "    chain = [max_entangled_node(d,name=str(i)) for i in range(l)]\n",
    "    vs = random_iso_chain(l,d=d,closed=closed)\n",
    "    e = []\n",
    "    for i in range(l):\n",
    "        H = gue(d)\n",
    "        e.append(tn.Node(linalg.qr(np.eye(d) + 1j*eps*np.asarray(H))[0],name='E_'+str(i)))\n",
    "        # TODO: test effect on wiring\n",
    "        chain[i][1] ^ vs[i][0]\n",
    "        chain[(i+1) % l][0] ^ e[i][0]\n",
    "        e[i][1] ^ vs[i][1]\n",
    "    return chain,vs,e\n",
    "\n",
    "def noisy_chains(lis,eps,d=4,closed=False):\n",
    "    \"\"\"\n",
    "    Returns \"almost\" translation-invariant random spin chains of given lenghts modeling the boundary of a 2D region.\n",
    "    \"\"\"\n",
    "    result = []\n",
    "    q = d ** (1/2)\n",
    "    if (q != int(q)):\n",
    "        print(\"Error: local dimension must be an integer.\")\n",
    "        return result\n",
    "    if (q < 2):\n",
    "        print(\"Error: local dimension must be at least 2.\")\n",
    "        return result\n",
    "    q = int(q)\n",
    "    U = ug.rvs(q)\n",
    "    for l in lis:\n",
    "        if (l != int(l)):\n",
    "            print(\"Error: length of chain must be an integer.\")\n",
    "            return []\n",
    "        chain = [max_entangled_node(d,name=str(i)) for i in range(l)]\n",
    "        vs = iso_chain_U(U,l,d=d,closed=closed)\n",
    "        I,X,Y,Z = paulis(q=d)\n",
    "        e = []\n",
    "        for i in range(len(vs)):\n",
    "            H = gue(d)\n",
    "            e.append(tn.Node(linalg.qr(np.eye(d) + 1j*eps*np.asarray(H))[0],name='E_'+str(i)))\n",
    "            chain[i][1] ^ vs[i][0]\n",
    "            chain[(i+1) % l][0] ^ e[i][0]\n",
    "            e[i][1] ^ vs[i][1]\n",
    "        result.append((chain,vs,e))\n",
    "    return result\n",
    "\n",
    "def iso_chain_U(U,l,d=4,closed=False):\n",
    "    if (d < 4):\n",
    "        print(\"Error: bond dimension must be at least 4.\")\n",
    "        return []\n",
    "    n = l if closed else l-1\n",
    "    q = d ** (1/2)\n",
    "    if (q != int(q)):\n",
    "        print(\"Error: local dimension must be an integer.\")\n",
    "        return [], []\n",
    "    if (q < 2):\n",
    "        print(\"Error: local dimension must be at least 2.\")\n",
    "        return [], []\n",
    "    q = int(q)\n",
    "#     vs = [iso_U(U,d=d,name='V_'+str(i)) for i in range(n)]\n",
    "    vs = [random_iso(d=d,name='V_'+str(i)) for i in range(n)]\n",
    "    if (not closed):\n",
    "        vs.append(tn.Node(np.eye(d**2).reshape((d,d,d,d)),name='bound'))\n",
    "    return vs\n",
    "\n",
    "def rti_chain(l,d=4,closed=False):\n",
    "    \"\"\"\n",
    "    Returns a translation-invariant random spin chain modeling the boundary of a 2D region.\n",
    "    \"\"\"\n",
    "    if (l != int(l)):\n",
    "        print(\"Error: length of chain must be an integer.\")\n",
    "        return [], []\n",
    "    chain = [max_entangled_node(d,name=str(i)) for i in range(l)]\n",
    "    vs = random_iso_chain(l,d=d,closed=closed)\n",
    "    for i in range(len(vs)):\n",
    "        chain[i][1] ^ vs[i][0]\n",
    "        chain[(i+1) % l][0] ^ vs[i][1]\n",
    "    return chain, vs\n",
    "\n",
    "def random_iso_chain(l,d=4,closed=False):\n",
    "    \"\"\"\n",
    "    Returns a list of nodes representing identical isometries, which is sampled randomly as defined in (1).\n",
    "    Indices 0 and 1 represent the environment and boundary input blocks, respectively, and indices 2 and 3 represent the output environment and boundary qudits.\n",
    "    \"\"\"\n",
    "    if (d < 4):\n",
    "        print(\"Error: bond dimension must be at least 4.\")\n",
    "        return []\n",
    "    n = l if closed else l-1\n",
    "    q = d ** (1/2)\n",
    "    if (q != int(q)):\n",
    "        print(\"Error: local dimension must be an integer.\")\n",
    "        return [], []\n",
    "    if (q < 2):\n",
    "        print(\"Error: local dimension must be at least 2.\")\n",
    "        return [], []\n",
    "    q = int(q)\n",
    "    U = ug.rvs(q)\n",
    "    result = [iso_U(U,d=d,name='V_'+str(i)) for i in range(n)]\n",
    "    if (not closed):\n",
    "        result.append(tn.Node(np.eye(d**2).reshape((d,d,d,d)),name='bound'))\n",
    "    return result\n",
    "\n",
    "def random_iso(d=4,name=None):\n",
    "    \"\"\"\n",
    "    Returns a single node representing a random isometry on a pair of adjacent environment and boundary qudit indices as defined in (1).\n",
    "    Indices 0 and 1 represent the environment and boundary input blocks, respectively, and indices 2 and 3 represent the output environment and boundary qudits.\n",
    "    \"\"\"\n",
    "    if (d < 4):\n",
    "        print(\"Error: bond dimension must be at least 4.\")\n",
    "        return\n",
    "    q = d ** (1/2)\n",
    "    if (q != int(q)):\n",
    "        print(\"Error: local dimension must be an integer.\")\n",
    "        return [], []\n",
    "    if (q < 2):\n",
    "        print(\"Error: local dimension must be at least 2.\")\n",
    "        return [], []\n",
    "    q = int(q)\n",
    "    U = ug.rvs(q)\n",
    "    return iso_U(U,d=d,name=name)\n",
    "\n",
    "def iso_U(U,d=4,name=None):\n",
    "    \"\"\"\n",
    "    Returns a single node representing a random isometry defined as in (1) by U.\n",
    "    Indices 0 and 1 represent the environment and boundary input blocks, respectively, and indices 2 and 3 represent the output environment and boundary qudits.\n",
    "    \"\"\"\n",
    "    if (d < 4):\n",
    "        print(\"Error: bond dimension must be at least 4.\")\n",
    "        return\n",
    "    q = d ** (1/2)\n",
    "    if (q != int(q)):\n",
    "        print(\"Error: local dimension must be an integer.\")\n",
    "        return [], []\n",
    "    if (q < 2):\n",
    "        print(\"Error: local dimension must be at least 2.\")\n",
    "        return [], []\n",
    "    q = int(q)\n",
    "    A = np.asarray(np.zeros((d,d,d,d)),dtype='complex')    # Indices 0-1 are environment qudits in +- basis, followed by inputs and outputs\n",
    "    I,X,Y,Z = paulis(q=q)\n",
    "    A[0][0] = np.kron(I,U)\n",
    "#     A[1][1] = np.kron(X,X@U)\n",
    "#     A[2][2] = np.kron(Y,Y@U)\n",
    "#     A[3][3] = np.kron(Z,Z@U)\n",
    "    A[1][1] = np.kron(X,X@U@ug.rvs(q))\n",
    "    A[2][2] = np.kron(Y,Y@U@ug.rvs(q))\n",
    "    A[3][3] = np.kron(Z,Z@U@ug.rvs(q))\n",
    "    A = tn.Node(A.transpose([0,2,1,3]))\n",
    "    H = tn.Node(proj_hadamard(d=d))\n",
    "#     V = tn.contract(H[0] ^ A[0])\n",
    "    H[0] ^ A[0]\n",
    "    V = tn.contractors.greedy([H,A],output_edge_order=[H[1],A[1],A[2],A[3]])\n",
    "    V.set_name(name)\n",
    "    return V\n",
    "\n",
    "def max_entangled_node(d,name=None):\n",
    "    \"\"\"\n",
    "    Returns a maximally entangled state with Schmidt rank d. Indices 0 and 1 are input state legs.\n",
    "    \"\"\"\n",
    "    u = np.asarray([[0 for j in range(d)] for i in range(d)])\n",
    "    for i in range(d):\n",
    "        u[i][i] = 1\n",
    "    return tn.Node(1/(d**0.5) * u, name=name)\n",
    "\n",
    "def proj_hadamard(d=4):\n",
    "    \"\"\"\n",
    "    Returns the operator which projects onto d = 4 and acts on a dimension 4 state as a pair of hadamards on two qubits.\n",
    "    \"\"\"\n",
    "    H = np.asarray([[1 for i in range(d)], [-1 for i in range(d)], [-1 for i in range(d)], [1 for i in range(d)]])\n",
    "    H[1][0] = 1\n",
    "    H[2][0] = 1\n",
    "    H[2][1] = 1\n",
    "    H[-1][1] = -1\n",
    "    H[1][2] = 1\n",
    "    H[-1][2] = -1\n",
    "    return 1/2 * H\n",
    "\n",
    "def paulis(q=2):\n",
    "    \"\"\"\n",
    "    Returns the identy, shift (X), Y, and clock (Z) matrices for local dimension q as a tuple of ndarrays.\n",
    "    \"\"\"\n",
    "    if (q != int(q)):\n",
    "        print(\"Error: local dimension must be an integer.\")\n",
    "        return\n",
    "    if (q < 2):\n",
    "        print(\"Error: local dimension must be at least 2.\")\n",
    "        return\n",
    "    q = int(q)\n",
    "    x = np.asarray([[0 for j in range(q)] for i in range(q)],dtype='complex')\n",
    "    z = np.asarray([[0 for j in range(q)] for i in range(q)],dtype='complex')\n",
    "    for i in range(q):\n",
    "        x[i][i-1] = 1\n",
    "        z[i][i] = np.e ** (1j*2*np.pi*i/q)\n",
    "    y = -1j * z @ x\n",
    "    return np.eye(q),x,y,z\n",
    "\n",
    "def random_unitary_error(eps,q=4):\n",
    "    \"\"\"\n",
    "    Returns\n",
    "    \"\"\"\n",
    "    return linalg.qr(np.eye(q) + 1j*eps*gue(d)/2)[0]"
   ]
  },
  {
   "cell_type": "code",
   "execution_count": 4,
   "id": "a5f7183c",
   "metadata": {},
   "outputs": [],
   "source": [
    "def gue(n):\n",
    "    \"\"\"\n",
    "    Returns\n",
    "    \"\"\"\n",
    "    A = np.random.normal(size=(n,n),scale=1/n**0.5) + 1j*np.random.normal(size=(n,n),scale=1/n**0.5)\n",
    "    return (A + np.conjugate(A.T))/4"
   ]
  },
  {
   "cell_type": "code",
   "execution_count": 5,
   "id": "d57cd349",
   "metadata": {},
   "outputs": [],
   "source": [
    "def renyi(rho, alpha, b=np.e):\n",
    "    \"\"\"\n",
    "    Returns\n",
    "    \"\"\"\n",
    "    return 1/(1-alpha) * np.log(np.trace(np.linalg.fractional_matrix_power(rho,alpha)))/np.log(b)\n",
    "\n",
    "def renyi_n(rho, alpha, b=np.e):\n",
    "    \"\"\"\n",
    "    Returns\n",
    "    \"\"\"\n",
    "    return 1/(1-alpha) * np.log(np.trace(np.linalg.matrix_power(rho,alpha)))/np.log(b)"
   ]
  },
  {
   "cell_type": "code",
   "execution_count": 11,
   "id": "8da77995",
   "metadata": {
    "scrolled": true
   },
   "outputs": [
    {
     "name": "stdout",
     "output_type": "stream",
     "text": [
      "Von Neumann entropy: \t (4.992866960399088+1.9658478609798646e-16j)\n",
      "Renyi alpha = 2: \t (4.985837310946291-0j)\n",
      "Renyi alpha = 3: \t (4.978961164085025+1.8990140755969875e-20j)\n"
     ]
    },
    {
     "data": {
      "text/plain": [
       "<Figure size 432x288 with 0 Axes>"
      ]
     },
     "metadata": {},
     "output_type": "display_data"
    },
    {
     "data": {
      "image/png": "[encoded data removed]",
      "text/plain": [
       "<Figure size 432x288 with 1 Axes>"
      ]
     },
     "metadata": {},
     "output_type": "display_data"
    }
   ],
   "source": [
    "l = 3\n",
    "chain,vs=rti_chain(l,d=4,closed=True)\n",
    "res = tn.contractors.greedy(chain+vs,output_edge_order=[vs[i//2][2+i%2]  for i in range(2*l)])\n",
    "copy = tn.Node(np.conjugate(res.get_tensor()))\n",
    "for i in range(l):\n",
    "    res[2*i] ^ copy[2*i]\n",
    "rho = tn.contractors.greedy([res, copy],output_edge_order=[res[i] for i in range(1,2*l,2)]+[copy[i] for i in range(1,2*l,2)])\n",
    "s = rho.get_tensor().reshape((4**l,4**l))\n",
    "\n",
    "# visualization\n",
    "plt.clf()\n",
    "fig,ax = plt.subplots(1)\n",
    "ax.set_yticklabels([])\n",
    "ax.set_xticklabels([])\n",
    "ax.set_xticks([])\n",
    "ax.set_yticks([])\n",
    "plt.imshow(np.abs(s),interpolation='nearest',cmap='Greys')\n",
    "plt.show()\n",
    "# plt.savefig('plots/random_iso_3.pdf', bbox_inches='tight', pad_inches=0.5)\n",
    "\n",
    "# compute entropy\n",
    "print(\"Von Neumann entropy: \\t\", - np.trace(s @ linalg.logm(s)/np.log(2)))\n",
    "\n",
    "# compute renyis\n",
    "print(\"Renyi alpha = 2: \\t\", renyi_n(s, 2, 2))\n",
    "print(\"Renyi alpha = 3: \\t\", renyi_n(s, 3, 2))"
   ]
  },
  {
   "cell_type": "code",
   "execution_count": 21,
   "id": "85fad59c",
   "metadata": {},
   "outputs": [
    {
     "name": "stdout",
     "output_type": "stream",
     "text": [
      "noisy version!\n",
      "Von Neumann entropy: \t (5.219987808442977-2.571109529123913e-17j)\n",
      "Renyi alpha = 2: \t (5.107889672191361-0j)\n",
      "Renyi alpha = 3: \t (5.077274107906409-4.824411837675953e-20j)\n"
     ]
    },
    {
     "data": {
      "text/plain": [
       "<Figure size 432x288 with 0 Axes>"
      ]
     },
     "metadata": {},
     "output_type": "display_data"
    },
    {
     "data": {
      "image/png": "[encoded data removed]",
      "text/plain": [
       "<Figure size 432x288 with 1 Axes>"
      ]
     },
     "metadata": {},
     "output_type": "display_data"
    }
   ],
   "source": [
    "# noisy version\n",
    "l = 3\n",
    "eps = 0.5\n",
    "print('noisy version!')\n",
    "chain,vs,e=noisy_rti_chain(l,eps,d=4,closed=True)\n",
    "res = tn.contractors.greedy(chain+vs+e,output_edge_order=[vs[i//2][2+i%2] for i in range(2*l)])\n",
    "copy = tn.Node(np.conjugate(res.get_tensor()))\n",
    "for i in range(l):\n",
    "    res[2*i] ^ copy[2*i]\n",
    "rho = tn.contractors.greedy([res, copy],output_edge_order=[res[i] for i in range(1,2*l,2)]+[copy[i] for i in range(1,2*l,2)])\n",
    "s = rho.get_tensor().reshape((4**l,4**l))\n",
    "\n",
    "# visualization\n",
    "plt.clf()\n",
    "fig,ax = plt.subplots(1)\n",
    "ax.set_yticklabels([])\n",
    "ax.set_xticklabels([])\n",
    "ax.set_xticks([])\n",
    "ax.set_yticks([])\n",
    "plt.imshow(np.abs(s),interpolation='nearest',cmap='Greys')\n",
    "# plt.show()\n",
    "plt.savefig('plots/noisy_random_iso_3.pdf', bbox_inches='tight', pad_inches=0.5)\n",
    "\n",
    "# compute entropy\n",
    "print(\"Von Neumann entropy: \\t\", - np.trace(s @ linalg.logm(s)/np.log(2)))\n",
    "\n",
    "# compute renyis\n",
    "print(\"Renyi alpha = 2: \\t\", renyi_n(s, 2, 2))\n",
    "print(\"Renyi alpha = 3: \\t\", renyi_n(s, 3, 2))"
   ]
  },
  {
   "cell_type": "code",
   "execution_count": 18,
   "id": "a2ffe41a",
   "metadata": {},
   "outputs": [
    {
     "data": {
      "image/png": "[encoded data removed]",
      "text/plain": [
       "<Figure size 432x288 with 1 Axes>"
      ]
     },
     "metadata": {
      "needs_background": "light"
     },
     "output_type": "display_data"
    },
    {
     "name": "stdout",
     "output_type": "stream",
     "text": [
      "Von Neumann entropy: \t (3.1155237385423846+5.724873537091118e-17j)\n",
      "Renyi alpha = 2: \t (2.9389962147344133-0j)\n",
      "Renyi alpha = 3: \t (2.8574798281300713-5.1349841807440045e-19j)\n"
     ]
    },
    {
     "data": {
      "image/png": "[encoded data removed]",
      "text/plain": [
       "<Figure size 432x288 with 1 Axes>"
      ]
     },
     "metadata": {
      "needs_background": "light"
     },
     "output_type": "display_data"
    },
    {
     "name": "stdout",
     "output_type": "stream",
     "text": [
      "Von Neumann entropy: \t (5.221199900900844-1.9473955064695187e-17j)\n",
      "Renyi alpha = 2: \t (5.067934014577933-0j)\n",
      "Renyi alpha = 3: \t (5.004976127627038+3.6344985880204843e-19j)\n"
     ]
    },
    {
     "data": {
      "image/png": "[encoded data removed]",
      "text/plain": [
       "<Figure size 432x288 with 1 Axes>"
      ]
     },
     "metadata": {
      "needs_background": "light"
     },
     "output_type": "display_data"
    },
    {
     "name": "stdout",
     "output_type": "stream",
     "text": [
      "Von Neumann entropy: \t (7.256620132563406-1.2112565424275766e-17j)\n",
      "Renyi alpha = 2: \t (7.133227499867295-0j)\n",
      "Renyi alpha = 3: \t (7.097831458650658-4.808008231226508e-18j)\n"
     ]
    }
   ],
   "source": [
    "lis = [2,3,4]\n",
    "chains = noisy_chains(lis,0.5,d=4,closed=True)\n",
    "for ch in chains:\n",
    "    chain,vs,e=ch\n",
    "    l = len(chain)\n",
    "    res = tn.contractors.greedy(chain+vs+e,output_edge_order=[vs[i//2][2+i%2] for i in range(2*l)])\n",
    "    copy = tn.Node(np.conjugate(res.get_tensor()))\n",
    "    for i in range(l):\n",
    "        res[2*i] ^ copy[2*i]\n",
    "    rho = tn.contractors.greedy([res, copy],output_edge_order=[res[i] for i in range(1,2*l,2)]+[copy[i] for i in range(1,2*l,2)])\n",
    "    s = rho.get_tensor().reshape((4**l,4**l))\n",
    "\n",
    "    # visualization\n",
    "    plt.clf()\n",
    "    plt.imshow(np.abs(s),interpolation='nearest',cmap='Greys')\n",
    "    plt.show()\n",
    "\n",
    "    # compute entropy\n",
    "    print(\"Von Neumann entropy: \\t\", - np.trace(s @ linalg.logm(s)/np.log(2)))\n",
    "\n",
    "    # compute renyis\n",
    "    print(\"Renyi alpha = 2: \\t\", renyi_n(s, 2, 2))\n",
    "    print(\"Renyi alpha = 3: \\t\", renyi_n(s, 3, 2))"
   ]
  },
  {
   "cell_type": "code",
   "execution_count": 19,
   "id": "f1468973",
   "metadata": {},
   "outputs": [
    {
     "name": "stdout",
     "output_type": "stream",
     "text": [
      "0\n",
      "logm result may be inaccurate, approximate err = 4.633654078002813e-13\n",
      "1\n",
      "logm result may be inaccurate, approximate err = 2.7457689525567385e-13\n",
      "2\n",
      "logm result may be inaccurate, approximate err = 5.55543824328902e-13\n",
      "3\n",
      "logm result may be inaccurate, approximate err = 5.561530568251042e-13\n",
      "4\n",
      "logm result may be inaccurate, approximate err = 5.339385032371101e-13\n",
      "5\n",
      "logm result may be inaccurate, approximate err = 6.192002698387411e-13\n",
      "6\n",
      "logm result may be inaccurate, approximate err = 4.54873098561232e-13\n",
      "7\n",
      "logm result may be inaccurate, approximate err = 3.5723030653326524e-13\n",
      "8\n",
      "logm result may be inaccurate, approximate err = 5.367842463061035e-13\n",
      "9\n",
      "logm result may be inaccurate, approximate err = 4.376841030522901e-13\n",
      "10\n",
      "logm result may be inaccurate, approximate err = 3.8539941879186387e-13\n",
      "11\n",
      "logm result may be inaccurate, approximate err = 5.640499941151454e-13\n",
      "12\n",
      "logm result may be inaccurate, approximate err = 4.4551383732672705e-13\n",
      "13\n",
      "logm result may be inaccurate, approximate err = 5.814315309651048e-13\n",
      "14\n",
      "logm result may be inaccurate, approximate err = 5.188038334427854e-13\n",
      "15\n",
      "logm result may be inaccurate, approximate err = 4.5802546278139e-13\n",
      "16\n",
      "logm result may be inaccurate, approximate err = 2.7162907029385713e-13\n",
      "17\n",
      "logm result may be inaccurate, approximate err = 2.5438682799904663e-13\n",
      "18\n",
      "logm result may be inaccurate, approximate err = 3.4724451361019666e-13\n",
      "19\n",
      "logm result may be inaccurate, approximate err = 4.797212784389482e-13\n",
      "20\n",
      "logm result may be inaccurate, approximate err = 5.613046613826453e-13\n",
      "21\n",
      "logm result may be inaccurate, approximate err = 5.763512542462772e-13\n",
      "22\n",
      "logm result may be inaccurate, approximate err = 6.62000992665322e-13\n",
      "23\n",
      "logm result may be inaccurate, approximate err = 5.444572376198702e-13\n",
      "24\n",
      "logm result may be inaccurate, approximate err = 6.789758187785858e-13\n",
      "25\n",
      "logm result may be inaccurate, approximate err = 5.136454044064635e-13\n",
      "26\n",
      "logm result may be inaccurate, approximate err = 4.348281267564297e-13\n",
      "27\n",
      "logm result may be inaccurate, approximate err = 3.623302846311789e-13\n",
      "28\n",
      "logm result may be inaccurate, approximate err = 5.242337289454183e-13\n",
      "29\n",
      "logm result may be inaccurate, approximate err = 4.5024639146055093e-13\n",
      "30\n",
      "logm result may be inaccurate, approximate err = 5.583582348752524e-13\n",
      "31\n",
      "logm result may be inaccurate, approximate err = 5.526109511926679e-13\n",
      "32\n",
      "logm result may be inaccurate, approximate err = 3.9240207891373364e-13\n",
      "33\n",
      "logm result may be inaccurate, approximate err = 3.8796325226849845e-13\n",
      "34\n",
      "logm result may be inaccurate, approximate err = 4.4141256714021823e-13\n",
      "35\n",
      "logm result may be inaccurate, approximate err = 3.3977831897823034e-13\n",
      "36\n",
      "logm result may be inaccurate, approximate err = 4.3658673573617764e-13\n",
      "37\n",
      "logm result may be inaccurate, approximate err = 4.901963777276463e-13\n",
      "38\n",
      "logm result may be inaccurate, approximate err = 3.9142785609366973e-13\n",
      "39\n",
      "logm result may be inaccurate, approximate err = 5.571162451623296e-13\n",
      "40\n",
      "logm result may be inaccurate, approximate err = 4.1396138160798864e-13\n",
      "41\n",
      "logm result may be inaccurate, approximate err = 3.8468456770808463e-13\n",
      "42\n",
      "logm result may be inaccurate, approximate err = 4.550484723110411e-13\n",
      "43\n",
      "logm result may be inaccurate, approximate err = 3.3501293867538244e-13\n",
      "44\n",
      "logm result may be inaccurate, approximate err = 6.139470044708962e-13\n",
      "45\n",
      "logm result may be inaccurate, approximate err = 5.186516732656964e-13\n",
      "46\n",
      "logm result may be inaccurate, approximate err = 5.665069868598202e-13\n",
      "47\n",
      "logm result may be inaccurate, approximate err = 5.25133609120079e-13\n",
      "48\n",
      "logm result may be inaccurate, approximate err = 6.244040122967683e-13\n",
      "49\n",
      "logm result may be inaccurate, approximate err = 4.894835561303486e-13\n"
     ]
    }
   ],
   "source": [
    "# compare VN and Renyis\n",
    "lis = [2,3,4,5]\n",
    "r = [2,3,4]\n",
    "eps = 0.1\n",
    "f = open('output/compare_renyis_v2_' + str(lis) + '_' + str(r) + '_' + str(eps), 'a')\n",
    "for i in range(50):\n",
    "    print(i)\n",
    "    chains = noisy_chains(lis,eps,d=4,closed=True)\n",
    "    result = ''\n",
    "    for ch in chains:\n",
    "        chain,vs,e=ch\n",
    "        l = len(chain)\n",
    "        res = tn.contractors.greedy(chain+vs+e,output_edge_order=[vs[i//2][2+i%2] for i in range(2*l)])\n",
    "        copy = tn.Node(np.conjugate(res.get_tensor()))\n",
    "        for i in range(l):\n",
    "            res[2*i] ^ copy[2*i]\n",
    "        rho = tn.contractors.greedy([res, copy],output_edge_order=[res[i] for i in range(1,2*l,2)]+[copy[i] for i in range(1,2*l,2)])\n",
    "        s = rho.get_tensor().reshape((4**l,4**l))\n",
    "        result += str(np.real(- np.trace(s @ linalg.logm(s)/np.log(2)))) + ','\n",
    "        for alpha in r:\n",
    "            result += str(np.real(renyi_n(s,alpha,2))) + ','\n",
    "    f.write(result)\n",
    "    f.write('\\n')\n",
    "f.close()"
   ]
  },
  {
   "cell_type": "code",
   "execution_count": 19,
   "id": "0a05acfa",
   "metadata": {},
   "outputs": [],
   "source": [
    "import matplotlib.font_manager"
   ]
  },
  {
   "cell_type": "code",
   "execution_count": 41,
   "id": "c642c6fa",
   "metadata": {},
   "outputs": [],
   "source": [
    "from matplotlib import cm\n",
    "cmap = cm.get_cmap('inferno')"
   ]
  },
  {
   "cell_type": "code",
   "execution_count": 52,
   "id": "fd08d6d8",
   "metadata": {},
   "outputs": [],
   "source": [
    "lis = [2,3,4,5]\n",
    "r = [2,3,4]\n",
    "eps = 0.2\n",
    "f = open('output/compare_renyis_' + str(lis) + '_' + str(r) + '_' + str(eps), 'r')\n",
    "tables = [[] for _ in range(len(r)+1)]\n",
    "while True:\n",
    "    line = f.readline()\n",
    "    if line == '':\n",
    "        break\n",
    "    read = line.strip().strip(',').split(',')\n",
    "    for i in range(len(r)+1):\n",
    "        tables[i].append(float(read[i]))\n",
    "f.close()"
   ]
  },
  {
   "cell_type": "code",
   "execution_count": 55,
   "id": "a916e14a",
   "metadata": {},
   "outputs": [
    {
     "data": {
      "text/plain": [
       "<Figure size 432x288 with 0 Axes>"
      ]
     },
     "metadata": {},
     "output_type": "display_data"
    },
    {
     "data": {
      "image/png": "[encoded data removed]",
      "text/plain": [
       "<Figure size 600x400 with 1 Axes>"
      ]
     },
     "metadata": {
      "needs_background": "light"
     },
     "output_type": "display_data"
    }
   ],
   "source": [
    "plt.clf()\n",
    "fig, ax = plt.subplots()\n",
    "ax.spines['right'].set_visible(False)\n",
    "ax.spines['left'].set_visible(False)\n",
    "ax.spines['top'].set_visible(False)\n",
    "n, bins, patches = plt.hist(tables[0], bins=20, density=True, histtype='step', color='b', alpha=0.5, linewidth=1.5, label='VN')\n",
    "n, bins, patches = plt.hist(tables[1], bins, histtype='step', density=True, color='r', alpha=0.5, linewidth=1.5, label='R2')\n",
    "for tick in ax.get_xticklabels():\n",
    "    tick.set_fontname(\"cmss10\")\n",
    "    #tick.set_fontname(\"cmr10\")\n",
    "#plt.xlabel('Mana of output state')\n",
    "#plt.ylabel('Frequency')\n",
    "#plt.title('Mana distribution')\n",
    "#font = {'size':20, 'family':'serif', 'serif': ['computer modern roman']}\n",
    "#plt.rc('font',**font)\n",
    "fig.set_size_inches(6, 4)\n",
    "fig.set_dpi(100)\n",
    "frame = plt.gca()\n",
    "frame.axes.get_yaxis().set_visible(False)\n",
    "plt.rcParams.update({'font.size': 16})\n",
    "plt.legend(bbox_to_anchor=(1.05, 0.75), loc='upper left')\n",
    "#plt.grid(True)\n",
    "plt.show()\n",
    "# plt.savefig('plots/comp_1d_3_3_60.pdf', bbox_inches='tight', pad_inches=0.5)"
   ]
  },
  {
   "cell_type": "code",
   "execution_count": 53,
   "id": "cbf3a9e7",
   "metadata": {},
   "outputs": [
    {
     "data": {
      "text/plain": [
       "<Figure size 432x288 with 0 Axes>"
      ]
     },
     "metadata": {},
     "output_type": "display_data"
    },
    {
     "data": {
      "image/png": "[encoded data removed]",
      "text/plain": [
       "<Figure size 500x500 with 1 Axes>"
      ]
     },
     "metadata": {
      "needs_background": "light"
     },
     "output_type": "display_data"
    }
   ],
   "source": [
    "plt.clf()\n",
    "fig, ax = plt.subplots()\n",
    "ax.spines['right'].set_visible(False)\n",
    "ax.spines['top'].set_visible(False)\n",
    "for i in range(len(r)):\n",
    "    plt.scatter(tables[0], tables[i+1], color=cmap(i/len(r)), alpha=0.75, linewidth=1.5, marker='+', s=50, label='')\n",
    "# plt.xlabel('Circuit depth')\n",
    "# plt.ylabel('Average sum negativity')\n",
    "#plt.title('Title')\n",
    "fig.set_size_inches(5, 5)\n",
    "fig.set_dpi(100)\n",
    "frame = plt.gca()\n",
    "#frame.axes.get_yaxis().set_visible(False)\n",
    "plt.rcParams.update({'font.size': 16})\n",
    "#plt.rcParams.update({'font.family': 'cmss10'})\n",
    "plt.rcParams.update({'font.family': 'cmr10'})\n",
    "#plt.grid(True)\n",
    "#plt.legend(bbox_to_anchor=(1, 0.85), loc='upper right')\n",
    "# plt.text(85, 1, 'n = 3', horizontalalignment='left')\n",
    "# plt.text(85, 2.5, 'n = 4', horizontalalignment='left')\n",
    "# plt.text(85, 5.1, 'n = 5', horizontalalignment='left')\n",
    "# plt.ylim([0, 6.5])\n",
    "# plt.xlim([5, 110])\n",
    "plt.show()\n",
    "# plt.savefig('plots/conv_1d_3.png', bbox_inches='tight', pad_inches=0, transparent=True)\n",
    "#plt.savefig('plots/conv_err_1d_3.pdf', bbox_inches='tight', pad_inches=0)"
   ]
  },
  {
   "cell_type": "code",
   "execution_count": null,
   "id": "976e21ab",
   "metadata": {},
   "outputs": [],
   "source": []
  }
 ],
 "metadata": {
  "kernelspec": {
   "display_name": "Python 3 (ipykernel)",
   "language": "python",
   "name": "python3"
  },
  "language_info": {
   "codemirror_mode": {
    "name": "ipython",
    "version": 3
   },
   "file_extension": ".py",
   "mimetype": "text/x-python",
   "name": "python",
   "nbconvert_exporter": "python",
   "pygments_lexer": "ipython3",
   "version": "3.7.11"
  }
 },
 "nbformat": 4,
 "nbformat_minor": 5
}
