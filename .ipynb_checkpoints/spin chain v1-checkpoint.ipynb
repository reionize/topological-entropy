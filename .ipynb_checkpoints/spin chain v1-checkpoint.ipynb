{
 "cells": [
  {
   "cell_type": "markdown",
   "id": "15cbac8d",
   "metadata": {},
   "source": [
    "# \"Almost\" translation-invariant random spin chain boundary state\n",
    "\n",
    "Models coarse-grained boundary of 2D architecture as an almost translation-invariant chain of maximally entangled states, similar to \"nontrivial example\" from ```arXiV:1911.09819```. The random isometry applied is the Stinespring dilation (i.e. unitary operation applied on the coarse-grained boundary and environment blocks of two adjacent sites) of the channel $\\varepsilon_U = \\frac{1}{4} \\sum (P_i \\otimes P_i U) \\cdot (P_i \\otimes U^\\dagger P_i)$ (1) on the boundary block, where $U$ is a random unitary. Random noise is then applied across the chain."
   ]
  },
  {
   "cell_type": "code",
   "execution_count": 2,
   "id": "123badce",
   "metadata": {},
   "outputs": [],
   "source": [
    "import numpy as np\n",
    "import math\n",
    "import tensornetwork as tn\n",
    "from scipy.stats import unitary_group as ug\n",
    "# from ast import literal_eval\n",
    "from scipy import linalg"
   ]
  },
  {
   "cell_type": "code",
   "execution_count": 3,
   "id": "9f408582",
   "metadata": {},
   "outputs": [],
   "source": [
    "from matplotlib import pyplot as plt"
   ]
  },
  {
   "cell_type": "code",
   "execution_count": 9,
   "id": "ab65b5d3",
   "metadata": {},
   "outputs": [],
   "source": [
    "def noisy_ctrl_rti_chain(l,eps,d=4,closed=False):\n",
    "    \"\"\"\n",
    "    Returns an \"almost\" translation-invariant random spin chain with size eps noise applied across the chain.\n",
    "    \"\"\"\n",
    "    q = d ** (1/2)\n",
    "    if (q != int(q)):\n",
    "        print(\"Error: local dimension must be an integer.\")\n",
    "        return result\n",
    "    if (q < 2):\n",
    "        print(\"Error: local dimension must be at least 2.\")\n",
    "        return result\n",
    "    I,X,Y,Z = paulis(q=d)\n",
    "    chain = [max_entangled_node(d,name=str(i)) for i in range(l)]\n",
    "    vs = random_iso_chain(l,d=d,closed=closed)\n",
    "    e = []\n",
    "    for i in range(l):\n",
    "        H = gue(d)\n",
    "        e.append(tn.Node(linalg.qr(np.eye(d) + 1j*(Z+eps*np.asarray(H)))[0],name='E_'+str(i)))\n",
    "        # TODO: test effect on wiring\n",
    "        chain[i][1] ^ vs[i][0]\n",
    "        chain[(i+1) % l][0] ^ e[i][0]\n",
    "        e[i][1] ^ vs[i][1]\n",
    "    return chain,vs,e\n",
    "\n",
    "def noisy_rti_chain(l,eps,d=4,closed=False):\n",
    "    \"\"\"\n",
    "    Returns an \"almost\" translation-invariant random spin chain with size eps noise applied across the chain.\n",
    "    \"\"\"\n",
    "    q = d ** (1/2)\n",
    "    if (q != int(q)):\n",
    "        print(\"Error: local dimension must be an integer.\")\n",
    "        return result\n",
    "    if (q < 2):\n",
    "        print(\"Error: local dimension must be at least 2.\")\n",
    "        return result\n",
    "    I,X,Y,Z = paulis(q=d)\n",
    "    chain = [max_entangled_node(d,name=str(i)) for i in range(l)]\n",
    "    vs = random_iso_chain(l,d=d,closed=closed)\n",
    "    e = []\n",
    "    for i in range(l):\n",
    "        H = gue(d)\n",
    "        e.append(tn.Node(linalg.qr(np.eye(d) + 1j*eps*np.asarray(H))[0],name='E_'+str(i)))\n",
    "        # TODO: test effect on wiring\n",
    "        chain[i][1] ^ vs[i][0]\n",
    "        chain[(i+1) % l][0] ^ e[i][0]\n",
    "        e[i][1] ^ vs[i][1]\n",
    "    return chain,vs,e\n",
    "\n",
    "def noisy_chains(lis,eps,d=4,closed=False):\n",
    "    \"\"\"\n",
    "    Returns \"almost\" translation-invariant random spin chains of given lenghts modeling the boundary of a 2D region.\n",
    "    \"\"\"\n",
    "    result = []\n",
    "    q = d ** (1/2)\n",
    "    if (q != int(q)):\n",
    "        print(\"Error: local dimension must be an integer.\")\n",
    "        return result\n",
    "    if (q < 2):\n",
    "        print(\"Error: local dimension must be at least 2.\")\n",
    "        return result\n",
    "    q = int(q)\n",
    "    U = ug.rvs(q)\n",
    "    for l in lis:\n",
    "        if (l != int(l)):\n",
    "            print(\"Error: length of chain must be an integer.\")\n",
    "            return []\n",
    "        chain = [max_entangled_node(d,name=str(i)) for i in range(l)]\n",
    "        vs = iso_chain_U(U,l,d=d,closed=closed)\n",
    "        I,X,Y,Z = paulis(q=d)\n",
    "        e = []\n",
    "        for i in range(len(vs)):\n",
    "            H = gue(d)\n",
    "            e.append(tn.Node(linalg.qr(np.eye(d) + 1j*eps*np.asarray(H))[0],name='E_'+str(i)))\n",
    "            chain[i][1] ^ vs[i][0]\n",
    "            chain[(i+1) % l][0] ^ e[i][0]\n",
    "            e[i][1] ^ vs[i][1]\n",
    "        result.append((chain,vs,e))\n",
    "    return result\n",
    "\n",
    "def iso_chain_U(U,l,d=4,closed=False):\n",
    "    if (d < 4):\n",
    "        print(\"Error: bond dimension must be at least 4.\")\n",
    "        return []\n",
    "    n = l if closed else l-1\n",
    "    q = d ** (1/2)\n",
    "    if (q != int(q)):\n",
    "        print(\"Error: local dimension must be an integer.\")\n",
    "        return [], []\n",
    "    if (q < 2):\n",
    "        print(\"Error: local dimension must be at least 2.\")\n",
    "        return [], []\n",
    "    q = int(q)\n",
    "    vs = [iso_U(U,d=d,name='V_'+str(i)) for i in range(n)]\n",
    "    if (not closed):\n",
    "        vs.append(tn.Node(np.eye(d**2).reshape((d,d,d,d)),name='bound'))\n",
    "    return vs\n",
    "\n",
    "def rti_chain(l,d=4,closed=False):\n",
    "    \"\"\"\n",
    "    Returns a translation-invariant random spin chain modeling the boundary of a 2D region.\n",
    "    \"\"\"\n",
    "    if (l != int(l)):\n",
    "        print(\"Error: length of chain must be an integer.\")\n",
    "        return [], []\n",
    "    chain = [max_entangled_node(d,name=str(i)) for i in range(l)]\n",
    "    vs = random_iso_chain(l,d=d,closed=closed)\n",
    "    for i in range(len(vs)):\n",
    "        chain[i][1] ^ vs[i][0]\n",
    "        chain[(i+1) % l][0] ^ vs[i][1]\n",
    "    return chain, vs\n",
    "\n",
    "def random_iso_chain(l,d=4,closed=False):\n",
    "    \"\"\"\n",
    "    Returns a list of nodes representing identical isometries, which is sampled randomly as defined in (1).\n",
    "    Indices 0 and 1 represent the environment and boundary input blocks, respectively, and indices 2 and 3 represent the output environment and boundary qudits.\n",
    "    \"\"\"\n",
    "    if (d < 4):\n",
    "        print(\"Error: bond dimension must be at least 4.\")\n",
    "        return []\n",
    "    n = l if closed else l-1\n",
    "    q = d ** (1/2)\n",
    "    if (q != int(q)):\n",
    "        print(\"Error: local dimension must be an integer.\")\n",
    "        return [], []\n",
    "    if (q < 2):\n",
    "        print(\"Error: local dimension must be at least 2.\")\n",
    "        return [], []\n",
    "    q = int(q)\n",
    "    U = ug.rvs(q)\n",
    "    result = [iso_U(U,d=d,name='V_'+str(i)) for i in range(n)]\n",
    "    if (not closed):\n",
    "        result.append(tn.Node(np.eye(d**2).reshape((d,d,d,d)),name='bound'))\n",
    "    return result\n",
    "\n",
    "def random_iso(d=4,name=None):\n",
    "    \"\"\"\n",
    "    Returns a single node representing a random isometry on a pair of adjacent environment and boundary qudit indices as defined in (1).\n",
    "    Indices 0 and 1 represent the environment and boundary input blocks, respectively, and indices 2 and 3 represent the output environment and boundary qudits.\n",
    "    \"\"\"\n",
    "    if (d < 4):\n",
    "        print(\"Error: bond dimension must be at least 4.\")\n",
    "        return\n",
    "    q = d ** (1/2)\n",
    "    if (q != int(q)):\n",
    "        print(\"Error: local dimension must be an integer.\")\n",
    "        return [], []\n",
    "    if (q < 2):\n",
    "        print(\"Error: local dimension must be at least 2.\")\n",
    "        return [], []\n",
    "    q = int(q)\n",
    "    U = ug.rvs(q)\n",
    "    return iso_U(U,d=d,name=name)\n",
    "\n",
    "def iso_U(U,d=4,name=None):\n",
    "    \"\"\"\n",
    "    Returns a single node representing a random isometry defined as in (1) by U.\n",
    "    Indices 0 and 1 represent the environment and boundary input blocks, respectively, and indices 2 and 3 represent the output environment and boundary qudits.\n",
    "    \"\"\"\n",
    "    if (d < 4):\n",
    "        print(\"Error: bond dimension must be at least 4.\")\n",
    "        return\n",
    "    q = d ** (1/2)\n",
    "    if (q != int(q)):\n",
    "        print(\"Error: local dimension must be an integer.\")\n",
    "        return [], []\n",
    "    if (q < 2):\n",
    "        print(\"Error: local dimension must be at least 2.\")\n",
    "        return [], []\n",
    "    q = int(q)\n",
    "    A = np.asarray(np.zeros((d,d,d,d)),dtype='complex')    # Indices 0-1 are environment qudits in +- basis, followed by inputs and outputs\n",
    "    I,X,Y,Z = paulis(q=q)\n",
    "    A[0][0] = np.kron(I,U)\n",
    "    A[1][1] = np.kron(X,X@U)\n",
    "    A[2][2] = np.kron(Y,Y@U)\n",
    "    A[3][3] = np.kron(Z,Z@U)\n",
    "    A = tn.Node(A.transpose([0,2,1,3]))\n",
    "    H = tn.Node(proj_hadamard(d=d))\n",
    "#     V = tn.contract(H[0] ^ A[0])\n",
    "    H[0] ^ A[0]\n",
    "    V = tn.contractors.greedy([H,A],output_edge_order=[H[1],A[1],A[2],A[3]])\n",
    "    V.set_name(name)\n",
    "    return V\n",
    "\n",
    "def max_entangled_node(d,name=None):\n",
    "    \"\"\"\n",
    "    Returns a maximally entangled state with Schmidt rank d. Indices 0 and 1 are input state legs.\n",
    "    \"\"\"\n",
    "    u = np.asarray([[0 for j in range(d)] for i in range(d)])\n",
    "    for i in range(d):\n",
    "        u[i][i] = 1\n",
    "    return tn.Node(1/(d**0.5) * u, name=name)\n",
    "\n",
    "def proj_hadamard(d=4):\n",
    "    \"\"\"\n",
    "    Returns the operator which projects onto d = 4 and acts on a dimension 4 state as a pair of hadamards on two qubits.\n",
    "    \"\"\"\n",
    "    H = np.asarray([[1 for i in range(d)], [-1 for i in range(d)], [-1 for i in range(d)], [1 for i in range(d)]])\n",
    "    H[1][0] = 1\n",
    "    H[2][0] = 1\n",
    "    H[2][1] = 1\n",
    "    H[-1][1] = -1\n",
    "    H[1][2] = 1\n",
    "    H[-1][2] = -1\n",
    "    return 1/2 * H\n",
    "\n",
    "def paulis(q=2):\n",
    "    \"\"\"\n",
    "    Returns the identy, shift (X), Y, and clock (Z) matrices for local dimension q as a tuple of ndarrays.\n",
    "    \"\"\"\n",
    "    if (q != int(q)):\n",
    "        print(\"Error: local dimension must be an integer.\")\n",
    "        return\n",
    "    if (q < 2):\n",
    "        print(\"Error: local dimension must be at least 2.\")\n",
    "        return\n",
    "    q = int(q)\n",
    "    x = np.asarray([[0 for j in range(q)] for i in range(q)],dtype='complex')\n",
    "    z = np.asarray([[0 for j in range(q)] for i in range(q)],dtype='complex')\n",
    "    for i in range(q):\n",
    "        x[i][i-1] = 1\n",
    "        z[i][i] = np.e ** (1j*2*np.pi*i/q)\n",
    "    y = -1j * z @ x\n",
    "    return np.eye(q),x,y,z\n",
    "\n",
    "def random_unitary_error(eps,q=4):\n",
    "    \"\"\"\n",
    "    Returns\n",
    "    \"\"\"\n",
    "    return linalg.qr(np.eye(q) + 1j*eps*gue(d)/2)[0]"
   ]
  },
  {
   "cell_type": "code",
   "execution_count": 5,
   "id": "a5f7183c",
   "metadata": {},
   "outputs": [],
   "source": [
    "def gue(n):\n",
    "    \"\"\"\n",
    "    Returns\n",
    "    \"\"\"\n",
    "    A = np.random.normal(size=(n,n),scale=1/n**0.5) + 1j*np.random.normal(size=(n,n),scale=1/n**0.5)\n",
    "    return (A + np.conjugate(A.T))/4"
   ]
  },
  {
   "cell_type": "code",
   "execution_count": 6,
   "id": "d57cd349",
   "metadata": {},
   "outputs": [],
   "source": [
    "def renyi(rho, alpha, b=np.e):\n",
    "    \"\"\"\n",
    "    Returns\n",
    "    \"\"\"\n",
    "    return 1/(1-alpha) * np.log(np.trace(np.linalg.fractional_matrix_power(rho,alpha)))/np.log(b)\n",
    "\n",
    "def renyi_n(rho, alpha, b=np.e):\n",
    "    \"\"\"\n",
    "    Returns\n",
    "    \"\"\"\n",
    "    return 1/(1-alpha) * np.log(np.trace(np.linalg.matrix_power(rho,alpha)))/np.log(b)"
   ]
  },
  {
   "cell_type": "code",
   "execution_count": 10,
   "id": "8da77995",
   "metadata": {
    "scrolled": true
   },
   "outputs": [
    {
     "data": {
      "image/png": "[encoded data removed]",
      "text/plain": [
       "<Figure size 432x288 with 1 Axes>"
      ]
     },
     "metadata": {
      "needs_background": "light"
     },
     "output_type": "display_data"
    },
    {
     "name": "stdout",
     "output_type": "stream",
     "text": [
      "logm result may be inaccurate, approximate err = 1.6399375432412453e-12\n",
      "Von Neumann entropy: \t (4.999999999999998-2.0314125047205933e-15j)\n",
      "Renyi alpha = 2: \t (5.000000000000002-0j)\n",
      "Renyi alpha = 3: \t (5.000000000000001+1.1721921665064012e-34j)\n"
     ]
    }
   ],
   "source": [
    "l = 3\n",
    "chain,vs=rti_chain(l,d=4,closed=True)\n",
    "res = tn.contractors.greedy(chain+vs,output_edge_order=[vs[i//2][2+i%2]  for i in range(2*l)])\n",
    "copy = tn.Node(np.conjugate(res.get_tensor()))\n",
    "for i in range(l):\n",
    "    res[2*i] ^ copy[2*i]\n",
    "rho = tn.contractors.greedy([res, copy],output_edge_order=[res[i] for i in range(1,2*l,2)]+[copy[i] for i in range(1,2*l,2)])\n",
    "s = rho.get_tensor().reshape((4**l,4**l))\n",
    "\n",
    "# visualization\n",
    "plt.clf()\n",
    "plt.imshow(np.abs(s),interpolation='nearest',cmap='Greys')\n",
    "plt.show()\n",
    "\n",
    "# compute entropy\n",
    "print(\"Von Neumann entropy: \\t\", - np.trace(s @ linalg.logm(s)/np.log(2)))\n",
    "\n",
    "# compute renyis\n",
    "print(\"Renyi alpha = 2: \\t\", renyi_n(s, 2, 2))\n",
    "print(\"Renyi alpha = 3: \\t\", renyi_n(s, 3, 2))"
   ]
  },
  {
   "cell_type": "code",
   "execution_count": 980,
   "id": "85fad59c",
   "metadata": {},
   "outputs": [
    {
     "name": "stdout",
     "output_type": "stream",
     "text": [
      "noisy version!\n"
     ]
    },
    {
     "data": {
      "image/png": "[encoded data removed]",
      "text/plain": [
       "<Figure size 432x288 with 1 Axes>"
      ]
     },
     "metadata": {
      "needs_background": "light"
     },
     "output_type": "display_data"
    },
    {
     "name": "stdout",
     "output_type": "stream",
     "text": [
      "Von Neumann entropy: \t (5.546757503978991-2.4146922193673473e-18j)\n",
      "Renyi alpha = 2: \t (5.345147141947371-0j)\n",
      "Renyi alpha = 3: \t (5.228842654913074-2.7365661191736206e-19j)\n"
     ]
    }
   ],
   "source": [
    "# noisy version\n",
    "l = 3\n",
    "eps = 0.5\n",
    "print('noisy version!')\n",
    "chain,vs,e=noisy_ctrl_rti_chain(l,eps,d=4,closed=True)\n",
    "res = tn.contractors.greedy(chain+vs+e,output_edge_order=[vs[i//2][2+i%2] for i in range(2*l)])\n",
    "copy = tn.Node(np.conjugate(res.get_tensor()))\n",
    "for i in range(l):\n",
    "    res[2*i] ^ copy[2*i]\n",
    "rho = tn.contractors.greedy([res, copy],output_edge_order=[res[i] for i in range(1,2*l,2)]+[copy[i] for i in range(1,2*l,2)])\n",
    "s = rho.get_tensor().reshape((4**l,4**l))\n",
    "\n",
    "# visualization\n",
    "plt.clf()\n",
    "plt.imshow(np.abs(s),interpolation='nearest',cmap='Greys')\n",
    "plt.show()\n",
    "\n",
    "# compute entropy\n",
    "print(\"Von Neumann entropy: \\t\", - np.trace(s @ linalg.logm(s)/np.log(2)))\n",
    "\n",
    "# compute renyis\n",
    "print(\"Renyi alpha = 2: \\t\", renyi_n(s, 2, 2))\n",
    "print(\"Renyi alpha = 3: \\t\", renyi_n(s, 3, 2))"
   ]
  },
  {
   "cell_type": "code",
   "execution_count": 14,
   "id": "a2ffe41a",
   "metadata": {},
   "outputs": [
    {
     "data": {
      "image/png": "[encoded data removed]",
      "text/plain": [
       "<Figure size 432x288 with 1 Axes>"
      ]
     },
     "metadata": {
      "needs_background": "light"
     },
     "output_type": "display_data"
    },
    {
     "name": "stdout",
     "output_type": "stream",
     "text": [
      "Von Neumann entropy: \t (3.2655828672132436-6.100275080506956e-18j)\n",
      "Renyi alpha = 2: \t (3.1178252469675374-0j)\n",
      "Renyi alpha = 3: \t (3.0677235460329317+3.2644652551330897e-18j)\n"
     ]
    },
    {
     "data": {
      "image/png": "[encoded data removed]",
      "text/plain": [
       "<Figure size 432x288 with 1 Axes>"
      ]
     },
     "metadata": {
      "needs_background": "light"
     },
     "output_type": "display_data"
    },
    {
     "name": "stdout",
     "output_type": "stream",
     "text": [
      "Von Neumann entropy: \t (5.390206101519857-5.2126068476382844e-17j)\n",
      "Renyi alpha = 2: \t (5.2359133165065375-0j)\n",
      "Renyi alpha = 3: \t (5.178177112733849+7.884582284205015e-19j)\n"
     ]
    },
    {
     "data": {
      "image/png": "[encoded data removed]",
      "text/plain": [
       "<Figure size 432x288 with 1 Axes>"
      ]
     },
     "metadata": {
      "needs_background": "light"
     },
     "output_type": "display_data"
    },
    {
     "name": "stdout",
     "output_type": "stream",
     "text": [
      "Von Neumann entropy: \t (7.633898356228302-1.57602659682087e-17j)\n",
      "Renyi alpha = 2: \t (7.475056809700621-0j)\n",
      "Renyi alpha = 3: \t (7.392785493554199+2.2714329055305838e-18j)\n"
     ]
    }
   ],
   "source": [
    "lis = [2,3,4]\n",
    "chains = noisy_chains(lis,0.9,d=4,closed=True)\n",
    "for ch in chains:\n",
    "    chain,vs,e=ch\n",
    "    l = len(chain)\n",
    "    res = tn.contractors.greedy(chain+vs+e,output_edge_order=[vs[i//2][2+i%2] for i in range(2*l)])\n",
    "    copy = tn.Node(np.conjugate(res.get_tensor()))\n",
    "    for i in range(l):\n",
    "        res[2*i] ^ copy[2*i]\n",
    "    rho = tn.contractors.greedy([res, copy],output_edge_order=[res[i] for i in range(1,2*l,2)]+[copy[i] for i in range(1,2*l,2)])\n",
    "    s = rho.get_tensor().reshape((4**l,4**l))\n",
    "\n",
    "    # visualization\n",
    "    plt.clf()\n",
    "    plt.imshow(np.abs(s),interpolation='nearest',cmap='Greys')\n",
    "    plt.show()\n",
    "\n",
    "    # compute entropy\n",
    "    print(\"Von Neumann entropy: \\t\", - np.trace(s @ linalg.logm(s)/np.log(2)))\n",
    "\n",
    "    # compute renyis\n",
    "    print(\"Renyi alpha = 2: \\t\", renyi_n(s, 2, 2))\n",
    "    print(\"Renyi alpha = 3: \\t\", renyi_n(s, 3, 2))"
   ]
  },
  {
   "cell_type": "code",
   "execution_count": 18,
   "id": "f1468973",
   "metadata": {},
   "outputs": [
    {
     "name": "stdout",
     "output_type": "stream",
     "text": [
      "0\n",
      "logm result may be inaccurate, approximate err = 5.014292847280237e-13\n",
      "1\n",
      "logm result may be inaccurate, approximate err = 3.7824378717072974e-13\n",
      "2\n",
      "logm result may be inaccurate, approximate err = 4.724293979995751e-13\n",
      "3\n",
      "logm result may be inaccurate, approximate err = 5.415725057211467e-13\n",
      "4\n",
      "logm result may be inaccurate, approximate err = 5.242033048770496e-13\n",
      "5\n",
      "logm result may be inaccurate, approximate err = 5.072155822999127e-13\n",
      "6\n",
      "logm result may be inaccurate, approximate err = 4.3141234401319537e-13\n",
      "7\n",
      "logm result may be inaccurate, approximate err = 5.071338189411432e-13\n",
      "8\n",
      "logm result may be inaccurate, approximate err = 4.629252552400792e-13\n",
      "9\n",
      "logm result may be inaccurate, approximate err = 4.4851089268352446e-13\n",
      "10\n",
      "logm result may be inaccurate, approximate err = 4.08795728496311e-13\n",
      "11\n",
      "logm result may be inaccurate, approximate err = 4.904271302463653e-13\n",
      "12\n",
      "logm result may be inaccurate, approximate err = 4.1540018988435204e-13\n",
      "13\n",
      "logm result may be inaccurate, approximate err = 5.728546797952587e-13\n",
      "14\n",
      "logm result may be inaccurate, approximate err = 4.4287124491656187e-13\n",
      "15\n",
      "logm result may be inaccurate, approximate err = 4.770276431512094e-13\n",
      "16\n",
      "logm result may be inaccurate, approximate err = 4.343815978830493e-13\n",
      "17\n",
      "logm result may be inaccurate, approximate err = 6.152015544464007e-13\n",
      "18\n",
      "logm result may be inaccurate, approximate err = 4.373934907054712e-13\n",
      "19\n",
      "logm result may be inaccurate, approximate err = 4.819757632819661e-13\n"
     ]
    }
   ],
   "source": [
    "# compare VN and Renyis\n",
    "lis = [2,3,4,5]\n",
    "r = [2,3,4]\n",
    "eps = 0.5\n",
    "f = open('output/compare_renyis_' + str(lis) + '_' + str(r) + '_' + str(eps), 'a')\n",
    "for i in range(20):\n",
    "    print(i)\n",
    "    chains = noisy_chains(lis,eps,d=4,closed=True)\n",
    "    result = ''\n",
    "    for ch in chains:\n",
    "        chain,vs,e=ch\n",
    "        l = len(chain)\n",
    "        res = tn.contractors.greedy(chain+vs+e,output_edge_order=[vs[i//2][2+i%2] for i in range(2*l)])\n",
    "        copy = tn.Node(np.conjugate(res.get_tensor()))\n",
    "        for i in range(l):\n",
    "            res[2*i] ^ copy[2*i]\n",
    "        rho = tn.contractors.greedy([res, copy],output_edge_order=[res[i] for i in range(1,2*l,2)]+[copy[i] for i in range(1,2*l,2)])\n",
    "        s = rho.get_tensor().reshape((4**l,4**l))\n",
    "        result += str(np.real(- np.trace(s @ linalg.logm(s)/np.log(2)))) + ','\n",
    "        for alpha in r:\n",
    "            result += str(np.real(renyi_n(s,alpha,2))) + ','\n",
    "    f.write(result)\n",
    "    f.write('\\n')\n",
    "f.close()"
   ]
  },
  {
   "cell_type": "code",
   "execution_count": 19,
   "id": "176139e5",
   "metadata": {},
   "outputs": [],
   "source": [
    "import matplotlib.font_manager"
   ]
  },
  {
   "cell_type": "code",
   "execution_count": null,
   "id": "727b7d75",
   "metadata": {},
   "outputs": [],
   "source": [
    "lis = [2,3,4,5]\n",
    "r = [2,3,4]\n",
    "eps = 0.5\n",
    "f = open('output/compare_renyis_' + str(lis) + '_' + str(r) + '_' + str(eps), 'r')\n",
    "tables = {}\n",
    "while True:\n",
    "    line = f.readline()\n",
    "    if line == '':\n",
    "        break\n",
    "    tables.append([float(val) for val in line.strip(',').split(',')])\n",
    "    f.close()"
   ]
  },
  {
   "cell_type": "code",
   "execution_count": 21,
   "id": "3803c9be",
   "metadata": {},
   "outputs": [
    {
     "data": {
      "text/plain": [
       "'asdf'"
      ]
     },
     "execution_count": 21,
     "metadata": {},
     "output_type": "execute_result"
    }
   ],
   "source": [
    "'asdf,'.strip(',')"
   ]
  },
  {
   "cell_type": "code",
   "execution_count": null,
   "id": "5377d538",
   "metadata": {},
   "outputs": [],
   "source": []
  }
 ],
 "metadata": {
  "kernelspec": {
   "display_name": "Python 3 (ipykernel)",
   "language": "python",
   "name": "python3"
  },
  "language_info": {
   "codemirror_mode": {
    "name": "ipython",
    "version": 3
   },
   "file_extension": ".py",
   "mimetype": "text/x-python",
   "name": "python",
   "nbconvert_exporter": "python",
   "pygments_lexer": "ipython3",
   "version": "3.7.11"
  }
 },
 "nbformat": 4,
 "nbformat_minor": 5
}
