{
 "cells": [
  {
   "cell_type": "code",
   "execution_count": 61,
   "id": "1a933290",
   "metadata": {},
   "outputs": [],
   "source": [
    "import numpy as np\n",
    "import math\n",
    "from scipy.stats import unitary_group as ug\n",
    "#import random"
   ]
  },
  {
   "cell_type": "code",
   "execution_count": 292,
   "id": "dbdc1688",
   "metadata": {},
   "outputs": [],
   "source": [
    "def random_mps(n,d,m):\n",
    "    \"\"\"\n",
    "    Returns a random matrix product state of size n, local dimension d, and bipartite Schmidt rank m as a ndarray object.\n",
    "    Axis 0 identifies the qudits, axes 1 and 2 are left and right Schmidt indices, and axis 3 is qudit indices.\n",
    "    \"\"\"\n",
    "#     if (m**n > (d**n)*(d**n + 1)/2):\n",
    "#         print(\"[-] Representation can be reduced\")\n",
    "#     if (m**n > (d**n)**2):\n",
    "#         print(\"[!] Representation not efficient\")\n",
    "    return np.random.normal(size=(n,m,m,d)) + 1j*np.random.normal(size=(n,m,m,d))\n",
    "\n",
    "def random_left_condition(m):\n",
    "    \"\"\"\n",
    "    Returns a random left boundary condition. Axis 0 required for reshaping, axis 1 is Schmidt contraction indices.\n",
    "    \"\"\"\n",
    "    return np.random.normal(size=(1,m)) + 1j*np.random.normal(size=(1,m)) \n",
    "\n",
    "def random_right_condition(m):\n",
    "    \"\"\"\n",
    "    Returns a random right boundary condition. Axis 0 is Schmidt contraction indices, axis 1 required for reshaping.\n",
    "    \"\"\"\n",
    "    return np.random.normal(size=(m,1)) + 1j*np.random.normal(size=(m,1))\n",
    "\n",
    "def random_operator(n,d):\n",
    "    U = ug.rvs(d**n)\n",
    "    return np.dot(np.conjugate(U).T,np.dot(np.diag(np.diag(np.random.normal(size=(d**n,d**n)))),U))"
   ]
  },
  {
   "cell_type": "code",
   "execution_count": 305,
   "id": "fde27c2c",
   "metadata": {
    "scrolled": true
   },
   "outputs": [],
   "source": [
    "n = 4\n",
    "d = 2\n",
    "m = 3\n",
    "s = random_mps(n,d,m)\n",
    "l = random_left_condition(m)\n",
    "r = random_right_condition(m)\n",
    "O = random_operator(1,d)"
   ]
  },
  {
   "cell_type": "code",
   "execution_count": 315,
   "id": "c2ba3f4b",
   "metadata": {},
   "outputs": [
    {
     "name": "stdout",
     "output_type": "stream",
     "text": [
      "(1, 2, 2, 2, 2, 1)\n",
      "[[[[-102991.52873366+0.j]]]]\n"
     ]
    }
   ],
   "source": [
    "#compute density matrix\n",
    "rho = l\n",
    "rho = np.tensordot(rho, s[0], axes=[1,0])\n",
    "for i in range(1,n):\n",
    "#     print(s[i].shape)\n",
    "#     print(rho.shape)\n",
    "    rho = np.tensordot(rho, s[i], axes=[i,0])\n",
    "rho = np.tensordot(rho, r, axes=[n,0])\n",
    "orho = np.tensordot(O, rho, axes=[0,2])\n",
    "orho = np.swapaxes(orho, 0, 1)\n",
    "orho = np.swapaxes(orho, 1, 2)\n",
    "# orho = np.swapaxes(orho, 2, 3)\n",
    "# orho = np.swapaxes(orho, 3, 4)\n",
    "print(orho.shape)\n",
    "print(np.tensordot(np.conjugate(rho), orho, axes=[[1,2,3,4],[1,2,3,4]]))\n",
    "# print(rho.reshape(rho.shape[1:-1]))"
   ]
  },
  {
   "cell_type": "code",
   "execution_count": 316,
   "id": "a083b714",
   "metadata": {},
   "outputs": [
    {
     "name": "stdout",
     "output_type": "stream",
     "text": [
      "[[-102991.52873366+0.j]]\n"
     ]
    }
   ],
   "source": [
    "#compute correlator linearly\n",
    "res = np.dot(np.conjugate(l).T, l)\n",
    "for i in range(0,n):\n",
    "    res = np.tensordot(res, s[i], axes=[1,0])\n",
    "    if (i==1):\n",
    "        res = np.tensordot(O, res, axes=[0,2])\n",
    "        res = np.swapaxes(res, 0, 1)\n",
    "        res = np.swapaxes(res, 1, 2)\n",
    "    res = np.tensordot(np.conjugate(s[i]), res, axes=[[0,2],[0,2]])\n",
    "res = np.tensordot(res, r, axes=[1,0])\n",
    "res = np.tensordot(np.conjugate(r), res, axes=[0,0])\n",
    "print(res)"
   ]
  },
  {
   "cell_type": "code",
   "execution_count": null,
   "id": "182f8f02",
   "metadata": {},
   "outputs": [],
   "source": []
  }
 ],
 "metadata": {
  "kernelspec": {
   "display_name": "Python 3 (ipykernel)",
   "language": "python",
   "name": "python3"
  },
  "language_info": {
   "codemirror_mode": {
    "name": "ipython",
    "version": 3
   },
   "file_extension": ".py",
   "mimetype": "text/x-python",
   "name": "python",
   "nbconvert_exporter": "python",
   "pygments_lexer": "ipython3",
   "version": "3.7.11"
  }
 },
 "nbformat": 4,
 "nbformat_minor": 5
}
