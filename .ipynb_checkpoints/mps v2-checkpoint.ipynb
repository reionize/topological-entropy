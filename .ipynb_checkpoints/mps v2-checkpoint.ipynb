{
 "cells": [
  {
   "cell_type": "markdown",
   "id": "e3bd7832",
   "metadata": {},
   "source": [
    "# Random matrix product state calculations v2\n",
    "\n",
    "Updated to use TensorNetwork library and tighter distribution "
   ]
  },
  {
   "cell_type": "code",
   "execution_count": 4,
   "id": "a380bec4",
   "metadata": {},
   "outputs": [],
   "source": [
    "import numpy as np\n",
    "import math\n",
    "import tensornetwork as tn\n",
    "from scipy.stats import unitary_group as ug"
   ]
  },
  {
   "cell_type": "code",
   "execution_count": 15,
   "id": "92e3de63",
   "metadata": {},
   "outputs": [],
   "source": [
    "def gue(d):\n",
    "    #TODO: check normalization\n",
    "    A = np.random.normal(size=(n,m,m,d)) + 1j*np.random.normal(size=(n,m,m,d))\n",
    "    return 2**(-d**0.5 * 0.5)*math.pi**(-d*0.5)*(A + np.conjugate(A.T))\n",
    "\n",
    "def random_mps(n,d,m):\n",
    "    \"\"\"\n",
    "    Returns a random matrix product state of size n, local dimension d, and bipartite Schmidt rank m as a ndarray object.\n",
    "    List index identifies the qudits, node axes 0 and 1 are left and right Schmidt indices, and axis 2 is qudit indices.\n",
    "    \"\"\"\n",
    "#     if (m**n > (d**n)*(d**n + 1)/2):\n",
    "#         print(\"[-] Representation can be reduced\")\n",
    "#     if (m**n > (d**n)**2):\n",
    "#         print(\"[!] Representation not efficient\")\n",
    "#     return np.random.normal(size=(n,m,m,d)) + 1j*np.random.normal(size=(n,m,m,d))\n",
    "    result = [tn.Node(np.random.normal(size=(m,m,d)) + 1j*np.random.normal(size=(m,m,d))) for _ in range(n)]\n",
    "    return result, [result[i][1]^result[i+1][0] for i in range(n-1)]\n",
    "\n",
    "def random_left_condition(m):\n",
    "    \"\"\"\n",
    "    Returns a random left boundary condition. Axis 0 required for reshaping, axis 1 is Schmidt contraction indices.\n",
    "    \"\"\"\n",
    "    return tn.Node(np.random.normal(size=(m)) + 1j*np.random.normal(size=(m)))\n",
    "\n",
    "def random_right_condition(m):\n",
    "    \"\"\"\n",
    "    Returns a random right boundary condition. Axis 0 is Schmidt contraction indices, axis 1 required for reshaping.\n",
    "    \"\"\"\n",
    "    return tn.Node(np.random.normal(size=(m)) + 1j*np.random.normal(size=(m)))\n",
    "\n",
    "def random_operator(n,d):\n",
    "    U = ug.rvs(d**n)\n",
    "    return tn.Node(np.dot(np.conjugate(U).T,np.dot(np.diag(np.random.normal(size=d**n)),U)))"
   ]
  },
  {
   "cell_type": "code",
   "execution_count": 39,
   "id": "27559cb8",
   "metadata": {},
   "outputs": [],
   "source": [
    "n = 4\n",
    "d = 2\n",
    "m = 3\n",
    "s,e = random_mps(n,d,m)\n",
    "l = random_left_condition(m)\n",
    "r = random_right_condition(m)\n",
    "O = random_operator(1,d)"
   ]
  },
  {
   "cell_type": "code",
   "execution_count": 40,
   "id": "02f9162a",
   "metadata": {},
   "outputs": [
    {
     "name": "stdout",
     "output_type": "stream",
     "text": [
      "(31718.217018365955+0j)\n"
     ]
    }
   ],
   "source": [
    "s[0] = tn.contract(l[0]^s[0][0])\n",
    "for i in range(n-1):\n",
    "    s[i+1] = tn.contract(e[i])\n",
    "    s[i] = 1\n",
    "s[n-1] = tn.contract(s[n-1][-2]^r[0])\n",
    "conj = tn.Node(tn.conj(s[n-1].get_tensor()))\n",
    "for i in range(n):\n",
    "    conj[i] ^ s[n-1][i]\n",
    "print((s[n-1] @ conj).get_tensor())"
   ]
  },
  {
   "cell_type": "code",
   "execution_count": null,
   "id": "4feb0abc",
   "metadata": {},
   "outputs": [],
   "source": []
  }
 ],
 "metadata": {
  "kernelspec": {
   "display_name": "Python 3 (ipykernel)",
   "language": "python",
   "name": "python3"
  },
  "language_info": {
   "codemirror_mode": {
    "name": "ipython",
    "version": 3
   },
   "file_extension": ".py",
   "mimetype": "text/x-python",
   "name": "python",
   "nbconvert_exporter": "python",
   "pygments_lexer": "ipython3",
   "version": "3.7.11"
  }
 },
 "nbformat": 4,
 "nbformat_minor": 5
}
