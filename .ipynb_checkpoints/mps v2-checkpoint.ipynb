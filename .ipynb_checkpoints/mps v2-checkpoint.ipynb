{
 "cells": [
  {
   "cell_type": "markdown",
   "id": "e3bd7832",
   "metadata": {},
   "source": [
    "# Random matrix product state calculations v2\n",
    "\n",
    "Updated to use TensorNetwork library and option to sample from GUE distribution for random states"
   ]
  },
  {
   "cell_type": "code",
   "execution_count": 483,
   "id": "a380bec4",
   "metadata": {},
   "outputs": [],
   "source": [
    "import numpy as np\n",
    "import math\n",
    "import tensornetwork as tn\n",
    "from scipy.stats import unitary_group as ug"
   ]
  },
  {
   "cell_type": "code",
   "execution_count": 513,
   "id": "92e3de63",
   "metadata": {},
   "outputs": [],
   "source": [
    "def gue(m):\n",
    "    #TODO: check normalization\n",
    "    A = np.random.normal(size=(m,m)) + 1j*np.random.normal(size=(m,m))\n",
    "#     return 2**(-m**0.5 * 0.5)*math.pi**(-m * 0.5)*(A + np.conjugate(A.T))/2\n",
    "    return (A + np.conjugate(A.T))/(2*math.log(m))**0.5/2/m\n",
    "\n",
    "def random_mps(n,d,m):\n",
    "    \"\"\"\n",
    "    Returns a random normally sampled matrix product state of size n, local dimension d, and bipartite Schmidt rank m as a ndarray object.\n",
    "    List index identifies the qudits, node axes 0 and 1 are left and right Schmidt indices, and axis 2 is qudit indices.\n",
    "    \"\"\"\n",
    "#     if (m**n > (d**n)*(d**n + 1)/2):\n",
    "#         print(\"[-] Representation can be reduced\")\n",
    "#     if (m**n > (d**n)**2):\n",
    "#         print(\"[!] Representation not efficient\")\n",
    "#     return np.random.normal(size=(n,m,m,d)) + 1j*np.random.normal(size=(n,m,m,d))\n",
    "    result = [tn.Node(np.random.normal(size=(m,m,d)) + 1j*np.random.normal(size=(m,m,d))) for _ in range(n)]\n",
    "    return result, [result[i][1]^result[i+1][0] for i in range(n-1)]\n",
    "\n",
    "def random_mps_gue(n,d,m):\n",
    "    \"\"\"\n",
    "    Returns a random GUE sampled matrix product state of size n, local dimension d, and bipartite Schmidt rank m as a ndarray object.\n",
    "    List index identifies the qudits, node axes 0 and 1 are left and right Schmidt indices, and axis 2 is qudit indices.\n",
    "    \"\"\"\n",
    "#     if (m**n > (d**n)*(d**n + 1)/2):\n",
    "#         print(\"[-] Representation can be reduced\")\n",
    "#     if (m**n > (d**n)**2):\n",
    "#         print(\"[!] Representation not efficient\")\n",
    "#     return np.random.normal(size=(n,m,m,d)) + 1j*np.random.normal(size=(n,m,m,d))\n",
    "#     result = [tn.Node(np.random.normal(size=(m,m,d)) + 1j*np.random.normal(size=(m,m,d))) for _ in range(n)]\n",
    "    result = [tn.Node(np.swapaxes([gue(m) for __ in range(d)],0,-1) + 1j*np.swapaxes([gue(m) for __ in range(d)],0,-1)) for _ in range(n)]\n",
    "    return result, [result[i][1]^result[i+1][0] for i in range(n-1)]\n",
    "\n",
    "def random_left_condition(m):\n",
    "    \"\"\"\n",
    "    Returns a random left boundary condition. Axis 0 is Schmidt contraction indices, axis 1 required for reshaping.\n",
    "    \"\"\"\n",
    "    return tn.Node(np.random.normal(size=(m)) + 1j*np.random.normal(size=(m)))\n",
    "\n",
    "def random_right_condition(m):\n",
    "    \"\"\"\n",
    "    Returns a random right boundary condition. Axis 0 is Schmidt contraction indices, axis 1 required for reshaping.\n",
    "    \"\"\"\n",
    "    return tn.Node(np.random.normal(size=(m)) + 1j*np.random.normal(size=(m)))\n",
    "\n",
    "def random_operator(n,d):\n",
    "    U = ug.rvs(d**n)\n",
    "    return tn.Node(np.dot(np.conjugate(U).T,np.dot(np.diag(np.random.normal(size=d**n)),U)))"
   ]
  },
  {
   "cell_type": "code",
   "execution_count": 536,
   "id": "0c5ad557",
   "metadata": {},
   "outputs": [
    {
     "name": "stdout",
     "output_type": "stream",
     "text": [
      "(0.25970462254175536+2.7538735181131813e-17j)\n"
     ]
    }
   ],
   "source": [
    "# test mps contraction\n",
    "n = 4\n",
    "d = 2\n",
    "m = 3\n",
    "s,e = random_mps_gue(n,d,m)\n",
    "l = random_left_condition(m)\n",
    "r = random_right_condition(m)\n",
    "O = random_operator(1,d)\n",
    "\n",
    "s[0] = tn.contract(l[0]^s[0][0])\n",
    "s[n-1] = tn.contract(s[n-1][-2]^r[0])\n",
    "conj = [tn.Node(tn.conj(node.get_tensor())) for node in s]\n",
    "ec = [conj[0][0]^conj[1][0]] + [conj[i][1]^conj[i+1][0] for i in range(1,n-1)]\n",
    "ep = [conj[i][-1]^s[i][-1] for i in range(n-1)]\n",
    "conj[n-1][-1] ^ O[0]\n",
    "s[n-1][-1] ^ O[1]\n",
    "result = tn.contract(ep[0])\n",
    "for i in range(1,n-1):\n",
    "    result = conj[i] @ result @ s[i]\n",
    "result = conj[n-1] @ result @ s[n-1] @ O\n",
    "print(result.get_tensor())"
   ]
  },
  {
   "cell_type": "code",
   "execution_count": 548,
   "id": "398a51cc",
   "metadata": {},
   "outputs": [
    {
     "name": "stdout",
     "output_type": "stream",
     "text": [
      "2\n",
      "1.1125652319843216\n",
      "\n",
      "3\n",
      "0.49301117788213367\n",
      "\n",
      "4\n",
      "0.3651853648068343\n",
      "\n",
      "5\n",
      "0.29763925351597226\n",
      "\n",
      "6\n",
      "0.1524141781839623\n",
      "\n",
      "7\n",
      "0.06478450448541132\n",
      "\n",
      "8\n",
      "0.03183290940935104\n",
      "\n",
      "9\n",
      "0.021185550894853074\n",
      "\n",
      "10\n",
      "0.01659608966601109\n",
      "\n"
     ]
    }
   ],
   "source": [
    "# decay of correlators\n",
    "d = 2\n",
    "m = 3\n",
    "O_0 = random_operator(1,d)\n",
    "O_n = random_operator(1,d)\n",
    "t = 50\n",
    "# correlator decay\n",
    "for n in range(2, 11):\n",
    "    print(n)\n",
    "    avgd = 0\n",
    "    for _ in range(t):\n",
    "        s,e = random_mps_gue(n,d,m)\n",
    "        l = random_left_condition(m)\n",
    "        r = random_right_condition(m)\n",
    "\n",
    "        s[0] = tn.contract(l[0]^s[0][0])\n",
    "        s[n-1] = tn.contract(s[n-1][-2]^r[0])\n",
    "        conj = [tn.Node(tn.conj(node.get_tensor())) for node in s]\n",
    "        ec = [conj[0][0]^conj[1][0]] + [conj[i][1]^conj[i+1][0] for i in range(1,n-1)]\n",
    "        ep = [conj[i][-1]^s[i][-1] for i in range(1, n-1)]\n",
    "        conj[n-1][-1] ^ O_n[0]\n",
    "        s[n-1][-1] ^ O_n[1]\n",
    "        conj[0][-1] ^ O_0[0]\n",
    "        s[0][-1] ^ O_0[1]\n",
    "        result = conj[0] @ O_0 @ s[0]\n",
    "        for i in range(1,n-1):\n",
    "            result = conj[i] @ result @ s[i]\n",
    "        result = conj[n-1] @ result @ s[n-1] @ O_n\n",
    "#         print(result.get_tensor())\n",
    "        avgd += abs(result.get_tensor())\n",
    "    print(avgd/t)\n",
    "    print()"
   ]
  },
  {
   "cell_type": "code",
   "execution_count": null,
   "id": "b1c408ea",
   "metadata": {},
   "outputs": [],
   "source": []
  }
 ],
 "metadata": {
  "kernelspec": {
   "display_name": "Python 3 (ipykernel)",
   "language": "python",
   "name": "python3"
  },
  "language_info": {
   "codemirror_mode": {
    "name": "ipython",
    "version": 3
   },
   "file_extension": ".py",
   "mimetype": "text/x-python",
   "name": "python",
   "nbconvert_exporter": "python",
   "pygments_lexer": "ipython3",
   "version": "3.7.11"
  }
 },
 "nbformat": 4,
 "nbformat_minor": 5
}
